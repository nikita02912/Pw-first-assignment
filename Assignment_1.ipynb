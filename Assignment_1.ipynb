{
  "nbformat": 4,
  "nbformat_minor": 0,
  "metadata": {
    "colab": {
      "provenance": []
    },
    "kernelspec": {
      "name": "python3",
      "display_name": "Python 3"
    },
    "language_info": {
      "name": "python"
    }
  },
  "cells": [
    {
      "cell_type": "code",
      "execution_count": null,
      "metadata": {
        "id": "x1GTBIHvL74v"
      },
      "outputs": [],
      "source": []
    },
    {
      "cell_type": "markdown",
      "source": [
        "1-What is Python, and why is it popular?\n",
        "\n",
        "<- Python is a high-level, interpreted programming language known for its simplicity, readability, and versatility.\n",
        "\n",
        "<- Python is used in a variety of fields, including web development, data science, artificial intelligence (AI), machine learning (ML), automation, scientific computing, and more. Libraries like Pandas and NumPy is used for data analysis and contribute to its broad application.\n",
        "\n",
        "<- Python is popular because it is simple to learn and use, highly versatile, and has a strong ecosystem that caters to a wide range of applications. Whether you're a beginner learning to code or an expert working on complex systems, Python provides a powerful and efficient environment.\n",
        "\n",
        "2- What is an interpreter in Python?\n",
        "\n",
        "<- Python interpreter allows Python code to be executed directly, translating the high-level Python code into machine instructions at runtime. It makes Python easy to use and flexible but can also result in slower performance compared to compiled languages.\n",
        "\n",
        "<- The Python interpreter translates the high-level Python code into machine-readable instructions that the computer can execute, one line at a time.\n",
        "\n",
        "3- What are pre-defined keywords in Python?\n",
        "\n",
        "<- Python has a set of keywords that are defined by the language's syntax, and each keyword serves a specific purpose within the language. Keywords are fundamental to Python's structure, and they are used to define the behavior of the program, control flow, data structures, functions, and classes.\n",
        "\n",
        "Keywords in Python:-\n",
        "\n",
        "1- Control Flow Keywords:\n",
        "\n",
        "i- if, elif, else: Used for conditional statements.\n",
        "\n",
        "ii- for, while: Used for loops.\n",
        "\n",
        "iii- break: Exits from the nearest enclosing loop.\n",
        "\n",
        "2- Function and Variable Keywords:\n",
        "\n",
        "i- def: Used to define a function.\n",
        "\n",
        "ii- lambda: Used to create an anonymous function.\n",
        "\n",
        "3-Logical Keywords:\n",
        "\n",
        "and, or, not: Used for logical operations (AND, OR, NOT).\n",
        "\n",
        "4- Data Type and Object Keywords:\n",
        "\n",
        "i- None: Represents a null or undefined value.\n",
        "\n",
        "ii- True, False: Boolean values representing truth and falsity.\n",
        "\n",
        "4- Can keywords be used as variable names?\n",
        "\n",
        "<-  No, keywords in Python cannot be used as variable names, function names, or identifiers of any kind. Keywords are reserved by the Python language for specific purposes, and attempting to use them as variable names will result in a syntax error.\n",
        "\n",
        "5- What is mutability in Python?\n",
        "\n",
        "<- Mutability in Python refers to the ability of an object to be changed or modified after it has been created.\n",
        "\n",
        "6- Why are lists mutable, but tuples are immutable?\n",
        "\n",
        "<- Lists are mutable because they are designed to hold items that can change over time. You might need to add, remove, or change things in a list as your program runs.\n",
        "\n",
        "<- Tuples are immutable because they are meant to hold things that should not change. Once you create a tuple, you can't change the items inside it.\n",
        "\n",
        "* lists are like editable notebooks, while tuples are like printed pages you can't rewrite.\n",
        "\n",
        "7- What is the difference between “==” and “is” operators in Python?\n",
        "\n",
        "<-  In Python, both == and is are used to compare objects, but they have different meanings and behaviors. Here's the difference:\n",
        "\n",
        "== (Equality Operator)-\n",
        "\n",
        "The == operator checks if the values of two objects are equal. It compares the data or content stored in the objects, not their identity (i.e., whether they are the same object in memory).\n",
        "\n",
        "Example:\n",
        "\n",
        "a = [1, 2, 3]\n",
        "b = [1, 2, 3]\n",
        "\n",
        "print(a == b)  # True because the values of a and b are the same\n",
        "In this example, a and b are two separate lists with the same content. Since their values are equal, a == b returns True.\n",
        "\n",
        "is (Identity Operator)-\n",
        "\n",
        "The is operator checks if two objects are the same object in memory (i.e., if they refer to the same memory location). It compares the identity of the objects, not their content.\n",
        "\n",
        "Example:\n",
        "\n",
        "a = [1, 2, 3]\n",
        "b = [1, 2, 3]\n",
        "\n",
        "print(a is b)  # False because a and b are different objects in memory\n",
        "Even though a and b have the same content, they are two different objects stored at different memory locations. Therefore, a is b returns False.\n",
        "\n",
        "8-  What are logical operators in Python?\n",
        "\n",
        "<- Logical operators in Python are tools you can use to combine or compare conditions in your code. They help you make decisions based on whether certain conditions are True or False. Python has three main logical operators:\n",
        "\n",
        "and: All conditions must be true.\n",
        "or: At least one condition must be true.\n",
        "not: Flips true to false or false to true\n",
        "\n",
        "9- What is type casting in Python?\n",
        "\n",
        "<-Type casting in Python is the process of converting one data type into another. It is useful when you need to work with different types of data in a specific way. For example, converting a string to a number, or a float to an integer.\n",
        "\n",
        "10- What is the difference between implicit and explicit type casting?\n",
        "\n",
        "<- Two Types of Type Casting:\n",
        "\n",
        "i- Implicit Type Casting\n",
        "\n",
        "Python automatically converts one data type to another.\n",
        "Example: Converting an integer to a float during a calculation.\n",
        "\n",
        "ii- Explicit Type Casting\n",
        "\n",
        "You manually convert data from one type to another using specific functions.\n",
        "\n",
        "Common functions for explicit casting:\n",
        "\n",
        "int(): Converts to an integer.\n",
        "\n",
        "float(): Converts to a float.\n",
        "\n",
        "str(): Converts to a string.\n",
        "\n",
        "list(), tuple(), set(): Convert to respective collection types.\n",
        "\n",
        "11- What is the purpose of conditional statements in Python?\n",
        "\n",
        "<- The purpose of conditional statements in Python is to allow your program to make decisions based on certain conditions. They let your code execute different blocks of instructions depending on whether a condition is True or False.\n",
        "\n",
        "Benefits of Conditional Statements:-\n",
        "\n",
        "Flexibility: Adapt the program's behavior based on the situation.\n",
        "\n",
        "Efficiency: Avoid unnecessary computations by only executing relevant code.\n",
        "\n",
        "Scalability: Handle multiple scenarios with clean and organized logic.\n",
        "\n",
        "12- How does the elif statement work?\n",
        "\n",
        "<-  The elif statement in Python is short for \"else if\". It allows you to check multiple conditions in a sequence. It works as follows:\n",
        "\n",
        "i- if checks the first condition: If the condition is True, its block of code is executed, and the rest of the conditions are ignored.\n",
        "\n",
        "\n",
        "ii- elif checks the next condition: If the previous if (or another elif) was False, Python evaluates the elif condition.\n",
        "\n",
        "\n",
        "iii- else handles everything else: If none of the if or elif conditions are true, the else block (if present) executes.\n",
        "\n",
        "13- What is the difference between for and while loops?\n",
        "\n",
        "<-  i- for Loop\n",
        "\n",
        "Purpose: Used when you know beforehand how many times you want to repeat a block of code or when you're iterating over a sequence (like a list, range, or string).\n",
        "\n",
        "ii- while Loop\n",
        "\n",
        "Purpose: Used when you need to repeat a block of code until a condition changes, and you do not know beforehand how many iterations are needed.\n",
        "\n",
        "i- for loop- Known number of iterations\n",
        "\n",
        "Iterating through lists, ranges\n",
        "\n",
        "ii- while loop- Unknown number of iterations\n",
        "\n",
        "Waiting for user input, conditions that depend on runtime\n",
        "\n",
        "14-Describe a scenario where a while loop is more suitable than a for loop?\n",
        "\n",
        "<-  A while loop is more suitable than a for loop in scenarios where the number of iterations is not predetermined but depends on a condition being met during the program's execution.\n",
        "\n",
        "Scenario: A Login System with Limited Attempts\n",
        "\n",
        "Imagine you are building a login system where a user has up to 3 attempts to enter the correct password. The loop should stop as soon as the user either enters the correct password or uses up all their attempts.\n",
        "\n",
        "\n",
        "Code Example:\n",
        "\n",
        "correct_password = \"password123\"\n",
        "attempts = 0\n",
        "max_attempts = 3\n",
        "\n",
        "while attempts < max_attempts:\n",
        "    user_input = input(\"Enter your password: \")\n",
        "    attempts += 1\n",
        "    if user_input == correct_password:\n",
        "        print(\"Access granted!\")\n",
        "        break\n",
        "    else:\n",
        "        print(\"Incorrect password. Try again.\")\n",
        "        if attempts == max_attempts:\n",
        "            print(\"Too many failed attempts. Access denied.\")\n",
        "\n",
        "\n",
        "\n",
        "\n",
        "\n",
        "\n",
        "\n",
        "\n"
      ],
      "metadata": {
        "id": "n8TFkpIXL-sV"
      }
    },
    {
      "cell_type": "code",
      "source": [],
      "metadata": {
        "id": "M54Z1e6IX0NF"
      },
      "execution_count": null,
      "outputs": []
    },
    {
      "cell_type": "code",
      "source": [
        "Scenario: A Login System with Limited Attempts\n",
        "\n",
        "Imagine you are building a login system where a user has up to 3 attempts to enter the correct password. The loop should stop as soon as the user either enters the correct password or uses up all their attempts.\n",
        "\n",
        "Code Example:\n",
        "\n",
        "python\n",
        "Copy code\n",
        "correct_password = \"password123\"\n",
        "attempts = 0\n",
        "max_attempts = 3\n",
        "\n",
        "while attempts < max_attempts:\n",
        "    user_input = input(\"Enter your password: \")\n",
        "    attempts += 1\n",
        "    if user_input == correct_password:\n",
        "        print(\"Access granted!\")\n",
        "        break\n",
        "    else:\n",
        "        print(\"Incorrect password. Try again.\")\n",
        "        if attempts == max_attempts:\n",
        "            print(\"Too many failed attempts. Access denied.\")"
      ],
      "metadata": {
        "id": "K3zYoPcZXhd3"
      },
      "execution_count": null,
      "outputs": []
    },
    {
      "cell_type": "markdown",
      "source": [
        "\n",
        "# Practical Questions"
      ],
      "metadata": {
        "id": "z6Riq2fNVNU0"
      }
    },
    {
      "cell_type": "markdown",
      "source": [],
      "metadata": {
        "id": "VW_cyflmYByg"
      }
    },
    {
      "cell_type": "markdown",
      "source": [
        "1- Write a Python program to print \"Hello, World!\n",
        "\n"
      ],
      "metadata": {
        "id": "vA0U4pxEYKoO"
      }
    },
    {
      "cell_type": "code",
      "source": [
        "print(\"Hello, World!\")\n"
      ],
      "metadata": {
        "colab": {
          "base_uri": "https://localhost:8080/"
        },
        "id": "u6PRqZCAYQmZ",
        "outputId": "3c99edf7-a2cf-42ff-cf2b-e80cd7b6f6cb"
      },
      "execution_count": 1,
      "outputs": [
        {
          "output_type": "stream",
          "name": "stdout",
          "text": [
            "Hello, World!\n"
          ]
        }
      ]
    },
    {
      "cell_type": "markdown",
      "source": [
        "2- Write a Python program that displays your name and age\n"
      ],
      "metadata": {
        "id": "QcMdNhXsYgjp"
      }
    },
    {
      "cell_type": "markdown",
      "source": [],
      "metadata": {
        "id": "RIrvxqJ0Ytb0"
      }
    },
    {
      "cell_type": "code",
      "source": [
        "name = \"Nikita\"\n",
        "age = 23\n",
        "\n",
        "print(\"My name is\", name)\n",
        "print(\"My age is\", age)"
      ],
      "metadata": {
        "colab": {
          "base_uri": "https://localhost:8080/"
        },
        "id": "Cs5_JrctYt75",
        "outputId": "065f4d70-f7b1-4c84-fb50-787567dad133"
      },
      "execution_count": 7,
      "outputs": [
        {
          "output_type": "stream",
          "name": "stdout",
          "text": [
            "My name is Nikita\n",
            "My age is 23\n"
          ]
        }
      ]
    },
    {
      "cell_type": "markdown",
      "source": [
        "3- Write code to print all the pre-defined keywords in Python using the keyword library\n",
        "\n"
      ],
      "metadata": {
        "id": "X2A7pwJUaJRw"
      }
    },
    {
      "cell_type": "code",
      "source": [
        "print(\"Python Keywords:\")\n",
        "print(keyword.kwlist)\n"
      ],
      "metadata": {
        "colab": {
          "base_uri": "https://localhost:8080/"
        },
        "id": "bRjvxhpeaNlE",
        "outputId": "27fe591e-6cd0-449a-b4cf-34ed0527e920"
      },
      "execution_count": 22,
      "outputs": [
        {
          "output_type": "stream",
          "name": "stdout",
          "text": [
            "Python Keywords:\n",
            "['False', 'None', 'True', 'and', 'as', 'assert', 'async', 'await', 'break', 'class', 'continue', 'def', 'del', 'elif', 'else', 'except', 'finally', 'for', 'from', 'global', 'if', 'import', 'in', 'is', 'lambda', 'nonlocal', 'not', 'or', 'pass', 'raise', 'return', 'try', 'while', 'with', 'yield']\n"
          ]
        }
      ]
    },
    {
      "cell_type": "markdown",
      "source": [
        "4- Write a program that checks if a given word is a Python keyword"
      ],
      "metadata": {
        "id": "8Q0SUbpxai1H"
      }
    },
    {
      "cell_type": "code",
      "source": [
        "word = input(\"Enter a word: \")\n",
        "if keyword.iskeyword(word):\n",
        "    print(f\"'{word}' is a Python keyword.\")\n",
        "else:\n",
        "    print(f\"'{word}' is NOT a Python keyword.\")\n"
      ],
      "metadata": {
        "colab": {
          "base_uri": "https://localhost:8080/"
        },
        "id": "RP3DPwJuame7",
        "outputId": "5199afdb-4137-43c7-9651-bb491814af0e"
      },
      "execution_count": 23,
      "outputs": [
        {
          "output_type": "stream",
          "name": "stdout",
          "text": [
            "Enter a word: or\n",
            "'or' is a Python keyword.\n"
          ]
        }
      ]
    },
    {
      "cell_type": "markdown",
      "source": [],
      "metadata": {
        "id": "NDAN6sUbYEx_"
      }
    },
    {
      "cell_type": "markdown",
      "source": [
        "5- Create a list and tuple in Python, and demonstrate how attempting to change an element works differently\n",
        "for each\n"
      ],
      "metadata": {
        "id": "oEslJFWzbHlk"
      }
    },
    {
      "cell_type": "code",
      "source": [
        "\n",
        "my_list = [1, 2, 3, 4, 5]\n",
        "print(\"Original List:\", my_list)\n",
        "my_list[2] = 10\n",
        "print(\"List after modification:\", my_list)\n"
      ],
      "metadata": {
        "colab": {
          "base_uri": "https://localhost:8080/"
        },
        "id": "Qnm6qJoObUSF",
        "outputId": "fd084df0-05cc-4bb9-ecfa-fda698c5fc75"
      },
      "execution_count": 24,
      "outputs": [
        {
          "output_type": "stream",
          "name": "stdout",
          "text": [
            "Original List: [1, 2, 3, 4, 5]\n",
            "List after modification: [1, 2, 10, 4, 5]\n"
          ]
        }
      ]
    },
    {
      "cell_type": "code",
      "source": [
        "\n",
        "my_tuple = (1, 2, 3, 4, 5)\n",
        "print(\"\\nOriginal Tuple:\", my_tuple)\n",
        "try:\n",
        "    my_tuple[2] = 10\n",
        "except TypeError as e:\n",
        "    print(\"Error:\", e)\n"
      ],
      "metadata": {
        "colab": {
          "base_uri": "https://localhost:8080/"
        },
        "id": "3DYjgbYtb5Pb",
        "outputId": "5092f22d-7b28-4fbd-a471-8194a439e003"
      },
      "execution_count": 25,
      "outputs": [
        {
          "output_type": "stream",
          "name": "stdout",
          "text": [
            "\n",
            "Original Tuple: (1, 2, 3, 4, 5)\n",
            "Error: 'tuple' object does not support item assignment\n"
          ]
        }
      ]
    },
    {
      "cell_type": "markdown",
      "source": [
        "6-Write a function to demonstrate the behavior of mutable and immutable arguments\n"
      ],
      "metadata": {
        "id": "bvKsimPsbi5H"
      }
    },
    {
      "cell_type": "markdown",
      "source": [],
      "metadata": {
        "id": "cDISQTGqbmK8"
      }
    },
    {
      "cell_type": "code",
      "source": [
        "def demo_arguments(mutable_arg, immutable_arg):\n",
        "    # Modify the mutable argument\n",
        "    mutable_arg.append(4)\n",
        "\n",
        "    # Try to modify the immutable argument\n",
        "    immutable_arg = 20\n",
        "\n",
        "    print(\"Inside function:\")\n",
        "    print(\"Mutable Argument:\", mutable_arg)\n",
        "    print(\"Immutable Argument:\", immutable_arg)\n",
        "\n",
        "\n",
        "# Test with a mutable (list) and an immutable (integer) argument\n",
        "my_list = [1, 2, 3]\n",
        "my_number = 10\n",
        "\n",
        "# Call the function\n",
        "demo_arguments(my_list, my_number)\n",
        "\n",
        "# Print the arguments after function call\n",
        "print(\"\\nAfter function call:\")\n",
        "print(\"Mutable Argument (List):\", my_list)\n",
        "print(\"Immutable Argument (Number):\", my_number)"
      ],
      "metadata": {
        "colab": {
          "base_uri": "https://localhost:8080/"
        },
        "id": "YKu595ycbmu2",
        "outputId": "ff17fee6-6319-45be-c4d9-0c0c4a71a92b"
      },
      "execution_count": 28,
      "outputs": [
        {
          "output_type": "stream",
          "name": "stdout",
          "text": [
            "Inside function:\n",
            "Mutable Argument: [1, 2, 3, 4]\n",
            "Immutable Argument: 20\n",
            "\n",
            "After function call:\n",
            "Mutable Argument (List): [1, 2, 3, 4]\n",
            "Immutable Argument (Number): 10\n"
          ]
        }
      ]
    },
    {
      "cell_type": "markdown",
      "source": [
        "8- Write a program to demonstrate the use of logical operators\n"
      ],
      "metadata": {
        "id": "aa4veokMdOOO"
      }
    },
    {
      "cell_type": "code",
      "source": [
        "\n",
        "a = 10\n",
        "b = 5\n",
        "c = 20\n",
        "\n",
        "# Using 'and' logical operator\n",
        "print(\"a > b and c > a:\", a > b and c > a)  # Both conditions are True\n",
        "\n",
        "# Using 'or' logical operator\n",
        "print(\"a > b or c < a:\", a > b or c < a)    # At least one condition is True\n",
        "\n",
        "# Using 'not' logical operator\n",
        "print(\"not (a < b):\", not (a < b))  # negates the condition (False becomes True)\n"
      ],
      "metadata": {
        "colab": {
          "base_uri": "https://localhost:8080/"
        },
        "id": "3HxztZ9FdQfg",
        "outputId": "7f329571-9c16-4eb9-a024-2da7c24f4080"
      },
      "execution_count": 29,
      "outputs": [
        {
          "output_type": "stream",
          "name": "stdout",
          "text": [
            "a > b and c > a: True\n",
            "a > b or c < a: True\n",
            "not (a < b): True\n"
          ]
        }
      ]
    },
    {
      "cell_type": "markdown",
      "source": [
        "9- Write a Python program to convert user input from string to integer, float, and boolean types\n"
      ],
      "metadata": {
        "id": "GJB7X6ESdcp6"
      }
    },
    {
      "cell_type": "code",
      "source": [
        "# Taking user input as a string\n",
        "user_input = input(\"Enter a value: \")\n",
        "\n",
        "# Convert string to integer\n",
        "try:\n",
        "    int_value = int(user_input)\n",
        "    print(f\"Converted to integer: {int_value}\")\n",
        "except ValueError:\n",
        "    print(\"Unable to convert to integer.\")\n",
        "\n",
        "# Convert string to float\n",
        "try:\n",
        "    float_value = float(user_input)\n",
        "    print(f\"Converted to float: {float_value}\")\n",
        "except ValueError:\n",
        "    print(\"Unable to convert to float.\")\n",
        "\n",
        "# Convert string to boolean\n",
        "# We check for specific string values 'True' and 'False', others will be treated as True unl\n"
      ],
      "metadata": {
        "colab": {
          "base_uri": "https://localhost:8080/"
        },
        "id": "fYZnS3QMdlZ0",
        "outputId": "d004633d-700f-44e2-af66-1c15f251d930"
      },
      "execution_count": 19,
      "outputs": [
        {
          "output_type": "stream",
          "name": "stdout",
          "text": [
            "Enter a value: 2\n",
            "Converted to integer: 2\n",
            "Converted to float: 2.0\n"
          ]
        }
      ]
    },
    {
      "cell_type": "markdown",
      "source": [
        "10- Write code to demonstrate type casting with list elements\n"
      ],
      "metadata": {
        "id": "HmhUDdfwd6Gh"
      }
    },
    {
      "cell_type": "code",
      "source": [
        "\n",
        "string_list = ['1', '2', '3.5', '4.8', '5']\n",
        "print(\"Original List:\", string_list)\n",
        "int_list = [int(item) if item.isdigit() else int(float(item)) for item in string_list]\n",
        "float_list = [float(item) for item in string_list]\n",
        "bool_list = [bool(item) for item in string_list]\n",
        "\n",
        "print(\"\\nList after converting string elements to integers:\", int_list)\n",
        "print(\"List after converting string elements to floats:\", float_list)\n",
        "print(\"List after converting string elements to booleans:\", bool_list)\n"
      ],
      "metadata": {
        "colab": {
          "base_uri": "https://localhost:8080/"
        },
        "id": "4JexSfknYCrS",
        "outputId": "b7cbb6f8-a3f4-4895-e2e5-f42912e7117d"
      },
      "execution_count": 30,
      "outputs": [
        {
          "output_type": "stream",
          "name": "stdout",
          "text": [
            "Original List: ['1', '2', '3.5', '4.8', '5']\n",
            "\n",
            "List after converting string elements to integers: [1, 2, 3, 4, 5]\n",
            "List after converting string elements to floats: [1.0, 2.0, 3.5, 4.8, 5.0]\n",
            "List after converting string elements to booleans: [True, True, True, True, True]\n"
          ]
        }
      ]
    },
    {
      "cell_type": "markdown",
      "source": [
        "11-Write a program that checks if a number is positive, negative, or zero\n"
      ],
      "metadata": {
        "id": "Q-77j8tIfkgb"
      }
    },
    {
      "cell_type": "code",
      "source": [
        "num = float(input(\"Enter a number: \"))\n",
        "if num > 0:\n",
        "    print(\"The number is positive.\")\n",
        "elif num < 0:\n",
        "    print(\"The number is negative.\")\n",
        "else:\n",
        "    print(\"The number is zero.\")"
      ],
      "metadata": {
        "colab": {
          "base_uri": "https://localhost:8080/"
        },
        "id": "b0mUXqUkfqoh",
        "outputId": "4f986a3f-7d54-4656-9c7f-2be8491e75db"
      },
      "execution_count": 32,
      "outputs": [
        {
          "output_type": "stream",
          "name": "stdout",
          "text": [
            "Enter a number: -1\n",
            "The number is negative.\n"
          ]
        }
      ]
    },
    {
      "cell_type": "markdown",
      "source": [
        "12- Write a for loop to print numbers from 1 to 100\n"
      ],
      "metadata": {
        "id": "jUfLqHHKf4qG"
      }
    },
    {
      "cell_type": "code",
      "source": [
        "\n",
        "for num in range(1, 101):\n",
        "    print(num)\n"
      ],
      "metadata": {
        "colab": {
          "base_uri": "https://localhost:8080/"
        },
        "id": "cdV-TGZEf-nq",
        "outputId": "64628af3-7043-47ba-f2c6-b3040d253518"
      },
      "execution_count": 33,
      "outputs": [
        {
          "output_type": "stream",
          "name": "stdout",
          "text": [
            "1\n",
            "2\n",
            "3\n",
            "4\n",
            "5\n",
            "6\n",
            "7\n",
            "8\n",
            "9\n",
            "10\n",
            "11\n",
            "12\n",
            "13\n",
            "14\n",
            "15\n",
            "16\n",
            "17\n",
            "18\n",
            "19\n",
            "20\n",
            "21\n",
            "22\n",
            "23\n",
            "24\n",
            "25\n",
            "26\n",
            "27\n",
            "28\n",
            "29\n",
            "30\n",
            "31\n",
            "32\n",
            "33\n",
            "34\n",
            "35\n",
            "36\n",
            "37\n",
            "38\n",
            "39\n",
            "40\n",
            "41\n",
            "42\n",
            "43\n",
            "44\n",
            "45\n",
            "46\n",
            "47\n",
            "48\n",
            "49\n",
            "50\n",
            "51\n",
            "52\n",
            "53\n",
            "54\n",
            "55\n",
            "56\n",
            "57\n",
            "58\n",
            "59\n",
            "60\n",
            "61\n",
            "62\n",
            "63\n",
            "64\n",
            "65\n",
            "66\n",
            "67\n",
            "68\n",
            "69\n",
            "70\n",
            "71\n",
            "72\n",
            "73\n",
            "74\n",
            "75\n",
            "76\n",
            "77\n",
            "78\n",
            "79\n",
            "80\n",
            "81\n",
            "82\n",
            "83\n",
            "84\n",
            "85\n",
            "86\n",
            "87\n",
            "88\n",
            "89\n",
            "90\n",
            "91\n",
            "92\n",
            "93\n",
            "94\n",
            "95\n",
            "96\n",
            "97\n",
            "98\n",
            "99\n",
            "100\n"
          ]
        }
      ]
    },
    {
      "cell_type": "markdown",
      "source": [
        "13-Write a Python program to find the sum of all even numbers between 1 and 500\n"
      ],
      "metadata": {
        "id": "F63cC86WgFqP"
      }
    },
    {
      "cell_type": "code",
      "source": [
        "\n",
        "even_sum = 0\n",
        "for num in range(1, 501):\n",
        "    if num % 2 == 0:\n",
        "        even_sum += num  # Add the even number to the sum\n",
        "print(\"The sum of all even numbers between 1 and 500 is:\", even_sum)\n"
      ],
      "metadata": {
        "colab": {
          "base_uri": "https://localhost:8080/"
        },
        "id": "DLfYOnEhgMQb",
        "outputId": "5023aa92-06a3-4b56-f96e-3829fa0864e8"
      },
      "execution_count": 34,
      "outputs": [
        {
          "output_type": "stream",
          "name": "stdout",
          "text": [
            "The sum of all even numbers between 1 and 500 is: 62750\n"
          ]
        }
      ]
    },
    {
      "cell_type": "markdown",
      "source": [
        "14- Write a program to reverse a string using a while loop\n"
      ],
      "metadata": {
        "id": "jdVO6Opoga1B"
      }
    },
    {
      "cell_type": "code",
      "source": [
        "\n",
        "input_string = input(\"Enter a string: \")\n",
        "reversed_string = \"\"\n",
        "index = len(input_string) - 1\n",
        "while index >= 0:\n",
        "    reversed_string += input_string[index]\n",
        "    index -= 1\n",
        "print(\"Reversed string:\", reversed_string)\n"
      ],
      "metadata": {
        "colab": {
          "base_uri": "https://localhost:8080/"
        },
        "id": "lH3VKFYHgfBS",
        "outputId": "7b7dfc65-d62d-4e95-9a50-f9357327970c"
      },
      "execution_count": 36,
      "outputs": [
        {
          "output_type": "stream",
          "name": "stdout",
          "text": [
            "Enter a string: neha\n",
            "Reversed string: ahen\n"
          ]
        }
      ]
    },
    {
      "cell_type": "markdown",
      "source": [
        "15- Write a Python program to calculate the factorial of a number provided by the user using a while loop\n"
      ],
      "metadata": {
        "id": "VshM6C6_gw44"
      }
    },
    {
      "cell_type": "code",
      "source": [
        "num = int(input(\"Enter a number to calculate its factorial: \"))\n",
        "factorial = 1\n",
        "counter = num\n",
        "while counter > 0:\n",
        "    factorial *= counter\n",
        "    counter -= 1\n",
        "print(f\"The factorial of {num} is: {factorial}\")\n"
      ],
      "metadata": {
        "colab": {
          "base_uri": "https://localhost:8080/"
        },
        "id": "CasUjyuvg4-i",
        "outputId": "bf4ed0fc-b8d8-4d17-af7a-7407efe9a0af"
      },
      "execution_count": 37,
      "outputs": [
        {
          "output_type": "stream",
          "name": "stdout",
          "text": [
            "Enter a number to calculate its factorial: 56\n",
            "The factorial of 56 is: 710998587804863451854045647463724949736497978881168458687447040000000000000\n"
          ]
        }
      ]
    },
    {
      "cell_type": "code",
      "source": [],
      "metadata": {
        "id": "bHO4CciJg1WZ"
      },
      "execution_count": null,
      "outputs": []
    }
  ]
}